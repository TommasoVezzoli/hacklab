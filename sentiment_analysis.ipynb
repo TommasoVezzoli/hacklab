{
 "cells": [
  {
   "cell_type": "markdown",
   "metadata": {},
   "source": [
    "# Imports"
   ]
  },
  {
   "cell_type": "code",
   "execution_count": 2,
   "metadata": {},
   "outputs": [],
   "source": [
    "import matplotlib.pyplot as plt\n",
    "import pandas as pd\n",
    "from sklearn.model_selection import train_test_split\n",
    "from sklearn.preprocessing import LabelEncoder\n",
    "import seaborn as sns\n",
    "import warnings\n",
    "from sklearn.feature_extraction.text import TfidfVectorizer\n",
    "import spacy\n",
    "from collections import Counter\n",
    "from vaderSentiment.vaderSentiment import SentimentIntensityAnalyzer\n",
    "from sklearn.feature_extraction.text import TfidfVectorizer\n",
    "from sklearn.ensemble import RandomForestClassifier\n",
    "from sklearn.metrics import classification_report\n",
    "from sklearn.pipeline import Pipeline\n",
    "\n",
    "import re\n",
    "import nltk\n",
    "\n",
    "\n",
    "warnings.filterwarnings(\"ignore\")"
   ]
  },
  {
   "cell_type": "code",
   "execution_count": 3,
   "metadata": {},
   "outputs": [
    {
     "data": {
      "text/html": [
       "<div>\n",
       "<style scoped>\n",
       "    .dataframe tbody tr th:only-of-type {\n",
       "        vertical-align: middle;\n",
       "    }\n",
       "\n",
       "    .dataframe tbody tr th {\n",
       "        vertical-align: top;\n",
       "    }\n",
       "\n",
       "    .dataframe thead th {\n",
       "        text-align: right;\n",
       "    }\n",
       "</style>\n",
       "<table border=\"1\" class=\"dataframe\">\n",
       "  <thead>\n",
       "    <tr style=\"text-align: right;\">\n",
       "      <th></th>\n",
       "      <th>customerID</th>\n",
       "      <th>complaint</th>\n",
       "      <th>complaint_number</th>\n",
       "    </tr>\n",
       "  </thead>\n",
       "  <tbody>\n",
       "    <tr>\n",
       "      <th>0</th>\n",
       "      <td>9565-DJPIB</td>\n",
       "      <td>The streaming TV service frequently buffers or...</td>\n",
       "      <td>1</td>\n",
       "    </tr>\n",
       "    <tr>\n",
       "      <th>1</th>\n",
       "      <td>4342-HFXWS</td>\n",
       "      <td>The DSL internet service has been inconsistent...</td>\n",
       "      <td>1</td>\n",
       "    </tr>\n",
       "    <tr>\n",
       "      <th>2</th>\n",
       "      <td>4342-HFXWS</td>\n",
       "      <td>The streaming TV service often buffers excessi...</td>\n",
       "      <td>2</td>\n",
       "    </tr>\n",
       "    <tr>\n",
       "      <th>3</th>\n",
       "      <td>4342-HFXWS</td>\n",
       "      <td>Despite having tech support included, it takes...</td>\n",
       "      <td>3</td>\n",
       "    </tr>\n",
       "    <tr>\n",
       "      <th>4</th>\n",
       "      <td>4342-HFXWS</td>\n",
       "      <td>The device protection plan I pay for did not c...</td>\n",
       "      <td>4</td>\n",
       "    </tr>\n",
       "    <tr>\n",
       "      <th>...</th>\n",
       "      <td>...</td>\n",
       "      <td>...</td>\n",
       "      <td>...</td>\n",
       "    </tr>\n",
       "    <tr>\n",
       "      <th>1600</th>\n",
       "      <td>2325-ZUSFD</td>\n",
       "      <td>The streaming services (TV and movies) have be...</td>\n",
       "      <td>1</td>\n",
       "    </tr>\n",
       "    <tr>\n",
       "      <th>1601</th>\n",
       "      <td>2325-ZUSFD</td>\n",
       "      <td>Despite paying for OnlineSecurity, I've been n...</td>\n",
       "      <td>2</td>\n",
       "    </tr>\n",
       "    <tr>\n",
       "      <th>1602</th>\n",
       "      <td>7851-FLGGQ</td>\n",
       "      <td>The streaming movies service I signed up for k...</td>\n",
       "      <td>1</td>\n",
       "    </tr>\n",
       "    <tr>\n",
       "      <th>1603</th>\n",
       "      <td>6874-SGLHU</td>\n",
       "      <td>The streaming services, both TV and movies, fr...</td>\n",
       "      <td>1</td>\n",
       "    </tr>\n",
       "    <tr>\n",
       "      <th>1604</th>\n",
       "      <td>4124-MMETB</td>\n",
       "      <td>The streaming services I signed up for, both T...</td>\n",
       "      <td>1</td>\n",
       "    </tr>\n",
       "  </tbody>\n",
       "</table>\n",
       "<p>1605 rows × 3 columns</p>\n",
       "</div>"
      ],
      "text/plain": [
       "      customerID                                          complaint  \\\n",
       "0     9565-DJPIB  The streaming TV service frequently buffers or...   \n",
       "1     4342-HFXWS  The DSL internet service has been inconsistent...   \n",
       "2     4342-HFXWS  The streaming TV service often buffers excessi...   \n",
       "3     4342-HFXWS  Despite having tech support included, it takes...   \n",
       "4     4342-HFXWS  The device protection plan I pay for did not c...   \n",
       "...          ...                                                ...   \n",
       "1600  2325-ZUSFD  The streaming services (TV and movies) have be...   \n",
       "1601  2325-ZUSFD  Despite paying for OnlineSecurity, I've been n...   \n",
       "1602  7851-FLGGQ  The streaming movies service I signed up for k...   \n",
       "1603  6874-SGLHU  The streaming services, both TV and movies, fr...   \n",
       "1604  4124-MMETB  The streaming services I signed up for, both T...   \n",
       "\n",
       "      complaint_number  \n",
       "0                    1  \n",
       "1                    1  \n",
       "2                    2  \n",
       "3                    3  \n",
       "4                    4  \n",
       "...                ...  \n",
       "1600                 1  \n",
       "1601                 2  \n",
       "1602                 1  \n",
       "1603                 1  \n",
       "1604                 1  \n",
       "\n",
       "[1605 rows x 3 columns]"
      ]
     },
     "execution_count": 3,
     "metadata": {},
     "output_type": "execute_result"
    }
   ],
   "source": [
    "complaints = pd.read_excel('EaUgXb.xlsx')\n",
    "complaints"
   ]
  },
  {
   "cell_type": "code",
   "execution_count": 4,
   "metadata": {},
   "outputs": [
    {
     "name": "stdout",
     "output_type": "stream",
     "text": [
      "Missing values in test dataset:\n",
      "customerID          0\n",
      "complaint           0\n",
      "complaint_number    0\n",
      "dtype: int64\n",
      "Empty DataFrame\n",
      "Columns: [customerID, complaint, complaint_number]\n",
      "Index: []\n"
     ]
    }
   ],
   "source": [
    "# check for any missing values\n",
    "print(\"Missing values in test dataset:\")\n",
    "print(complaints.isnull().sum())\n",
    "print(complaints[complaints.isnull().any(axis=1)])\n"
   ]
  },
  {
   "cell_type": "code",
   "execution_count": 5,
   "metadata": {},
   "outputs": [
    {
     "name": "stdout",
     "output_type": "stream",
     "text": [
      "Unique values in each column:\n",
      "customerID: 704 unique values\n",
      "complaint: 1605 unique values\n",
      "complaint_number: 5 unique values\n"
     ]
    }
   ],
   "source": [
    "#check unique values in each column\n",
    "print(\"Unique values in each column:\")\n",
    "for col in complaints.columns:\n",
    "    print(f\"{col}: {complaints[col].nunique()} unique values\")"
   ]
  },
  {
   "cell_type": "markdown",
   "metadata": {},
   "source": [
    "So only 704 customers over the 7043 registered in the other dataset have given feedbacks. Moreover we know that some among the 704 customers have left more than one complaint (up to five)."
   ]
  },
  {
   "cell_type": "code",
   "execution_count": 6,
   "metadata": {},
   "outputs": [
    {
     "name": "stdout",
     "output_type": "stream",
     "text": [
      "Count of customers making 1, 2, 3, 4, or 5 complaints:\n",
      "count\n",
      "1    298\n",
      "3    134\n",
      "2    128\n",
      "5     73\n",
      "4     71\n",
      "Name: count, dtype: int64 \n",
      "\n",
      "Percentage of customers making just one complaint: 42.33%\n"
     ]
    }
   ],
   "source": [
    "# count how many customers make just one complaint\n",
    "print(\"Count of customers making 1, 2, 3, 4, or 5 complaints:\")\n",
    "n_comp = complaints['customerID'].value_counts().value_counts()\n",
    "print(n_comp, \"\\n\")\n",
    "\n",
    "perc=n_comp[1]/704\n",
    "perc = round(perc, 4)\n",
    "print(f\"Percentage of customers making just one complaint: {perc*100}%\")\n"
   ]
  },
  {
   "cell_type": "code",
   "execution_count": 7,
   "metadata": {},
   "outputs": [
    {
     "name": "stdout",
     "output_type": "stream",
     "text": [
      "Mean of complaint number:\n",
      "2.0504672897196263\n"
     ]
    }
   ],
   "source": [
    "# check mean of complaint number\n",
    "print(\"Mean of complaint number:\")\n",
    "mean_complaint = complaints['complaint_number'].mean()\n",
    "print(mean_complaint)"
   ]
  },
  {
   "cell_type": "markdown",
   "metadata": {},
   "source": [
    "Although 42.33% of customers only submit one complaint, the average number of complaints per customer is 2, indicating that while most customers do not return after their first issue, a smaller subset of highly dissatisfied customers engages in repeated complaints. This suggests a bifurcation in customer experience: some may churn silently after one negative interaction, while others persist in seeking resolution.\n",
    "\n",
    "This pattern emphasizes the need to take first complaints seriously, as a large portion of customers may never return if the issue is not adequately resolved. On the other hand, customers who complain multiple times may require structured support, as they represent a group at high risk of dissatisfaction and potential churn."
   ]
  },
  {
   "cell_type": "markdown",
   "metadata": {},
   "source": [
    "---\n",
    "\n",
    "## **SENTIMENT ANALYSIS**\n",
    "\n",
    "This sentiment analysis wants to focus on the negativity because we know the dataset is made only of complaints (negative feedbacks) of customers, so, for sure, all of them are negative; but at what intensity? \\\n",
    "Our aim is to classify the complaints in three levels of intensity (mild, moderate, severe)"
   ]
  },
  {
   "cell_type": "markdown",
   "metadata": {},
   "source": [
    "**STRATEGY**\n",
    "1. Implementing a pretrained model (VADER) \n",
    "    We can use it to have a quick baseline model working for unlabeled data.\n",
    "2. Labeling or Defining the Sentiment\n",
    "    If possible, manually label a small sample (~100 complaints) for a custom supervised model (better but more work)\n",
    "3. Modeling\n",
    "    Train a classifier (Logistic Regression, Random Forest, fine-tune a Transformer like BERT, etc.)"
   ]
  },
  {
   "cell_type": "code",
   "execution_count": 8,
   "metadata": {},
   "outputs": [],
   "source": [
    "def preprocess_text(text):\n",
    "    text = re.sub(r'[^a-zA-Z\\s]', '', text)  # Remove special characters\n",
    "    text = text.lower()  # Convert to lowercase\n",
    "    return text"
   ]
  },
  {
   "cell_type": "code",
   "execution_count": 9,
   "metadata": {},
   "outputs": [],
   "source": [
    "complaints['cleaned_complaint'] = complaints['complaint'].apply(preprocess_text)"
   ]
  },
  {
   "cell_type": "markdown",
   "metadata": {},
   "source": [
    "### Using VADER (pretrained, unlabeled)"
   ]
  },
  {
   "cell_type": "markdown",
   "metadata": {},
   "source": [
    "We implement a specialized model to classify the intensity of negativity in complaints, based also on VADER's sentiment analysis. VADER provides four sentiment scores (positive, negative, neutral, and compound), but for complaint analysis, we need a more focused approach that specifically measures negativity intensity.\n",
    "\n",
    "We create a custom scoring system that examines and weights particular words in each complaint. Instead of using VADER's standard scores, our approach identifies domain-specific negative terms, urgency expressions, and intensifiers that appear frequently in our complaints dataset, assigning different weights to words that signal moderate negativity (like \"disappointing\") versus severe negativity (like \"outrageous\"). \n",
    "\n",
    "The final negativity score, calculated by summing these weighted word scores, is then used to classify complaints into severity categories using thresholds, providing a tailored assessment of negativity intensity specific to our business context."
   ]
  },
  {
   "cell_type": "code",
   "execution_count": 10,
   "metadata": {},
   "outputs": [],
   "source": [
    "\n",
    "# Load English language model\n",
    "nlp = spacy.load(\"en_core_web_sm\")\n",
    "\n",
    "# Function to extract adjectives and adverbs\n",
    "def extract_adj_adv_spacy(text):\n",
    "    # Process text with spaCy\n",
    "    doc = nlp(text.lower())\n",
    "    \n",
    "    # Extract adjectives and adverbs based on their POS tags\n",
    "    adjectives = [token.text for token in doc if token.pos_ == \"ADJ\"]\n",
    "    adverbs = [token.text for token in doc if token.pos_ == \"ADV\"]\n",
    "    \n",
    "    return adjectives, adverbs\n",
    "\n"
   ]
  },
  {
   "cell_type": "code",
   "execution_count": 11,
   "metadata": {},
   "outputs": [],
   "source": [
    "# Process complaints\n",
    "all_adjectives = []\n",
    "all_adverbs = []\n",
    "# To handle large datasets efficiently, process in batches\n",
    "for complaint in complaints['complaint']:\n",
    "    adj, adv = extract_adj_adv_spacy(complaint)\n",
    "    all_adjectives.extend(adj)\n",
    "    all_adverbs.extend(adv)\n",
    "\n",
    "# Count frequencies\n",
    "adj_freq = Counter(all_adjectives)\n",
    "adv_freq = Counter(all_adverbs)\n",
    "\n",
    "\n"
   ]
  },
  {
   "cell_type": "code",
   "execution_count": 12,
   "metadata": {},
   "outputs": [
    {
     "name": "stdout",
     "output_type": "stream",
     "text": [
      "Top 20 Adjectives:\n",
      "monthly: 332\n",
      "high: 319\n",
      "frustrating: 267\n",
      "slow: 195\n",
      "frequent: 169\n",
      "online: 159\n",
      "difficult: 147\n",
      "poor: 139\n",
      "unreliable: 132\n",
      "impossible: 131\n",
      "long: 123\n",
      "unacceptable: 116\n",
      "better: 102\n",
      "multiple: 97\n",
      "unhelpful: 95\n",
      "inconsistent: 91\n",
      "loyal: 88\n",
      "basic: 78\n",
      "ongoing: 64\n",
      "available: 58\n"
     ]
    }
   ],
   "source": [
    "top_adjectives = adj_freq.most_common(20)\n",
    "print(\"Top 20 Adjectives:\")\n",
    "for adj, count in top_adjectives:\n",
    "    print(f\"{adj}: {count}\")\n"
   ]
  },
  {
   "cell_type": "code",
   "execution_count": 13,
   "metadata": {},
   "outputs": [
    {
     "name": "stdout",
     "output_type": "stream",
     "text": [
      "\n",
      "Top 20 Adverbs:\n",
      "especially: 189\n",
      "extremely: 171\n",
      "frequently: 159\n",
      "very: 142\n",
      "even: 110\n",
      "too: 98\n",
      "often: 95\n",
      "consistently: 90\n",
      "constantly: 55\n",
      "immediately: 48\n",
      "still: 46\n",
      "altogether: 43\n",
      "effectively: 37\n",
      "recently: 36\n",
      "online: 34\n",
      "properly: 32\n",
      "much: 31\n",
      "lately: 30\n",
      "more: 30\n",
      "long: 29\n"
     ]
    }
   ],
   "source": [
    "top_adverbs = adv_freq.most_common(20)\n",
    "print(\"\\nTop 20 Adverbs:\")\n",
    "for adv, count in top_adverbs:\n",
    "    print(f\"{adv}: {count}\")"
   ]
  },
  {
   "cell_type": "markdown",
   "metadata": {},
   "source": [
    "Now we define a function where the score is calculated based which specific negative words appear in a complaint, then we weight the score also with the vader scores (neg and compound) and finally there is the thresholding used for the classification of intensity level of the single complaint."
   ]
  },
  {
   "cell_type": "code",
   "execution_count": 14,
   "metadata": {},
   "outputs": [],
   "source": [
    "def vader_classifier(text):\n",
    "    # Get VADER scores\n",
    "    sia = SentimentIntensityAnalyzer()\n",
    "    scores = sia.polarity_scores(text)\n",
    "    \n",
    "    # Extract scores\n",
    "    neg_score = scores['neg']\n",
    "    compound = scores['compound']\n",
    "    \n",
    "    severity_score = 0\n",
    "    \n",
    "    # Defining severe negative words\n",
    "    severe_words = [\"terrible\", \"worst\", \"horrible\", \"awful\", \"outrageous\", \n",
    "                   \"unacceptable\", \"disgusting\", \"appalling\", \"furious\", \n",
    "                   \"ridiculous\", \"scam\", \"fraud\", \"lawsuit\", \"legal action\", \n",
    "                   \"frustrating\", \"frustrat\" \"dissatisfied\", \"unreliable\", \n",
    "                   \"cancel\", \"frustrated\", \"loyal\", \"loyalty\",  \"no loyalty\",\n",
    "                   \"long-term\", \"impossible\"]\n",
    "\n",
    "    \n",
    "    # Defining moderate negative words\n",
    "    moderate_words = [\"disappointed\", \"disappointing\", \"annoying\", \"problem\", \n",
    "                     \"issue\", \"issues\" \"poor\", \"unhappy\", \"bad\", \"seem\", \"inconvenient\", \n",
    "                     \"expect\", \"delay\", \"wait\", \"slow\", \"difficult\", \"confusing\", \n",
    "                     \"unresolved\", \"unhelpful\", \"expected\", \"unresponsive\", \"slower\", \n",
    "                     \"slow\", \"inconsistent\", \"poor\"]\n",
    "\n",
    "    # Defining intensifiers\n",
    "    intensifiers = [\"very\", \"extremely\", \"absolutely\", \"completely\", \"totally\", \"excessively\", \"excessive\", \"high\", \"especially\", \"properly\"]\n",
    "\n",
    "    \n",
    "    # Defining urgency indicators\n",
    "    urgency_words = [\"immediately\", \"urgent\", \"asap\", \"right away\", \"emergency\"]\n",
    "\n",
    "    \n",
    "    for word in text.lower().split():\n",
    "        if word in severe_words:\n",
    "            severity_score += 3\n",
    "        if word in moderate_words:\n",
    "            severity_score += 2\n",
    "        if word in intensifiers:\n",
    "            severity_score += 1\n",
    "        if word in urgency_words:\n",
    "            severity_score += 2\n",
    "\n",
    "    \n",
    "    # Weight with VADER scores\n",
    "    severity_score += (neg_score * 5)  # Multiply negative score for more weight\n",
    "    severity_score -= (compound * 3)   # Subtract compound (since negative compound is negative)\n",
    "\n",
    "    # Tresholding classification\n",
    "    if severity_score > 4:\n",
    "        return 'severe'\n",
    "    elif severity_score > 1:\n",
    "        return 'moderate'\n",
    "    else:\n",
    "        return 'mild'\n",
    "    "
   ]
  },
  {
   "cell_type": "code",
   "execution_count": 15,
   "metadata": {},
   "outputs": [],
   "source": [
    "complaints['severity'] = complaints['cleaned_complaint'].apply(vader_classifier)\n"
   ]
  },
  {
   "cell_type": "markdown",
   "metadata": {},
   "source": [
    "Then we check and we visualize the distribution of the negativity classes"
   ]
  },
  {
   "cell_type": "code",
   "execution_count": 16,
   "metadata": {},
   "outputs": [
    {
     "name": "stdout",
     "output_type": "stream",
     "text": [
      "severity\n",
      "severe      954\n",
      "moderate    452\n",
      "mild        199\n",
      "Name: count, dtype: int64\n"
     ]
    }
   ],
   "source": [
    "\n",
    "# Check the distribution\n",
    "severity_distribution = complaints['severity'].value_counts()\n",
    "print(severity_distribution)\n"
   ]
  },
  {
   "cell_type": "code",
   "execution_count": 17,
   "metadata": {},
   "outputs": [
    {
     "data": {
      "text/plain": [
       "Text(0, 0.5, 'Count')"
      ]
     },
     "execution_count": 17,
     "metadata": {},
     "output_type": "execute_result"
    },
    {
     "data": {
      "image/png": "[encoded data removed]",
      "text/plain": [
       "<Figure size 1000x600 with 1 Axes>"
      ]
     },
     "metadata": {},
     "output_type": "display_data"
    }
   ],
   "source": [
    "# Plot the results\n",
    "plt.figure(figsize=(10, 6))\n",
    "sns.countplot(data=complaints, x='severity', palette='viridis')\n",
    "plt.title('Severity Distribution')\n",
    "plt.xlabel('Severity')\n",
    "plt.ylabel('Count')"
   ]
  },
  {
   "cell_type": "markdown",
   "metadata": {},
   "source": [
    "### Complaint history analysis"
   ]
  },
  {
   "cell_type": "markdown",
   "metadata": {},
   "source": [
    "Finally, we have analyzed how complaint severity changes as customers submit multiple complaints over time. Our visualizations reveal patterns in negativity intensity, showing whether customers' complaints tend to become more severe, less severe, or remain consistent with each subsequent submission."
   ]
  },
  {
   "cell_type": "code",
   "execution_count": 18,
   "metadata": {},
   "outputs": [
    {
     "data": {
      "image/png": "[encoded data removed]",
      "text/plain": [
       "<Figure size 640x480 with 1 Axes>"
      ]
     },
     "metadata": {},
     "output_type": "display_data"
    }
   ],
   "source": [
    "# For each complaint number, calculate the percentage of each severity\n",
    "severity_percentage = complaints.groupby('complaint_number')['severity'].value_counts(normalize=True) * 100\n",
    "\n",
    "# Reset index for better visualization\n",
    "severity_percentage = severity_percentage.reset_index(name='percentage')\n",
    "# Plotting the trend\n",
    "sns.barplot(x='complaint_number', y='percentage', hue='severity', data=severity_percentage)\n",
    "plt.title('Severity Percentage per Complaint Number')\n",
    "plt.ylabel('Percentage')\n",
    "plt.xlabel('Complaint Number')\n",
    "plt.legend(title='Severity')\n",
    "plt.tight_layout()\n",
    "plt.show()"
   ]
  },
  {
   "cell_type": "code",
   "execution_count": 19,
   "metadata": {},
   "outputs": [
    {
     "data": {
      "image/png": "[encoded data removed]",
      "text/plain": [
       "<Figure size 640x480 with 1 Axes>"
      ]
     },
     "metadata": {},
     "output_type": "display_data"
    }
   ],
   "source": [
    "# Filter to get only customers with multiple complaints\n",
    "complaint_counts = complaints['customerID'].value_counts()\n",
    "multi_complainers = complaint_counts[complaint_counts > 1].index\n",
    "multi_complainer_data = complaints[complaints['customerID'].isin(multi_complainers)]\n",
    "\n",
    "# Calculate percentage of each severity category per complaint number\n",
    "severity_percentage = pd.crosstab(\n",
    "    multi_complainer_data['complaint_number'], \n",
    "    multi_complainer_data['severity'],  # Assuming 'severity' is your column with severity categories\n",
    "    normalize='index'  # Normalize by row (complaint number)\n",
    ") * 100\n",
    "\n",
    "# Reset index to prepare for plotting\n",
    "severity_percentage = severity_percentage.reset_index()\n",
    "\n",
    "# Convert to long format for seaborn\n",
    "severity_percentage_long = pd.melt(\n",
    "    severity_percentage, \n",
    "    id_vars=['complaint_number'],\n",
    "    var_name='severity', \n",
    "    value_name='percentage'\n",
    ")\n",
    "\n",
    "# Plotting the trend\n",
    "sns.barplot(x='complaint_number', y='percentage', hue='severity', data=severity_percentage_long)\n",
    "plt.title('Severity Percentage per Complaint Number (multiple complaints)')\n",
    "plt.ylabel('Percentage')\n",
    "plt.xlabel('Complaint Number')\n",
    "plt.legend(title='Severity')\n",
    "plt.tight_layout()\n",
    "plt.show()\n"
   ]
  },
  {
   "cell_type": "markdown",
   "metadata": {},
   "source": [
    "By looking at how the customers expressed throughout their first, second, third, fourth and fifth complaint, we can notice that the most severe terms are used when people complain for the first, second and fifth time, while in the other cases they use more moderate terms. Actually it make sense that in the first complaint people are very severe because by EDA we saw that more than 40% of complainers only make a single complaint.\n"
   ]
  },
  {
   "cell_type": "markdown",
   "metadata": {},
   "source": [
    "The spike in severity in the first complaint supports the idea that first impressions matter greatly — customers who express high negativity early might not remain if their issues aren't resolved promptly. Moreover, the increase in severity at the fifth complaint could suggest that issues are being left unresolved, eventually escalating the customer’s frustration. This highlights the importance of long-term issue resolution. And, customers appear less severe in the third and fourth complaints, which could indicate either that their issues were partially addressed or that they are becoming resigned, which could be a sign preceding churn."
   ]
  },
  {
   "cell_type": "markdown",
   "metadata": {},
   "source": [
    "### **Repeating the analysis only with churning customers**\n",
    "\n",
    "In order to analyze only the churning customers, we need to combined both dataset and we merge only the 'Churn' column from the client's dataset. Then we create a new dataframe filtering only for churning customers and we re-apply the model and visualization methods."
   ]
  },
  {
   "cell_type": "code",
   "execution_count": 19,
   "metadata": {},
   "outputs": [
    {
     "data": {
      "text/html": [
       "<div>\n",
       "<style scoped>\n",
       "    .dataframe tbody tr th:only-of-type {\n",
       "        vertical-align: middle;\n",
       "    }\n",
       "\n",
       "    .dataframe tbody tr th {\n",
       "        vertical-align: top;\n",
       "    }\n",
       "\n",
       "    .dataframe thead th {\n",
       "        text-align: right;\n",
       "    }\n",
       "</style>\n",
       "<table border=\"1\" class=\"dataframe\">\n",
       "  <thead>\n",
       "    <tr style=\"text-align: right;\">\n",
       "      <th></th>\n",
       "      <th>customerID</th>\n",
       "      <th>complaint</th>\n",
       "      <th>complaint_number</th>\n",
       "      <th>cleaned_complaint</th>\n",
       "      <th>Churn</th>\n",
       "    </tr>\n",
       "  </thead>\n",
       "  <tbody>\n",
       "    <tr>\n",
       "      <th>0</th>\n",
       "      <td>9565-DJPIB</td>\n",
       "      <td>The streaming TV service frequently buffers or...</td>\n",
       "      <td>1</td>\n",
       "      <td>the streaming tv service frequently buffers or...</td>\n",
       "      <td>Yes</td>\n",
       "    </tr>\n",
       "    <tr>\n",
       "      <th>6</th>\n",
       "      <td>8988-ECPJR</td>\n",
       "      <td>The internet service has been very inconsisten...</td>\n",
       "      <td>1</td>\n",
       "      <td>the internet service has been very inconsisten...</td>\n",
       "      <td>Yes</td>\n",
       "    </tr>\n",
       "    <tr>\n",
       "      <th>7</th>\n",
       "      <td>8988-ECPJR</td>\n",
       "      <td>I was disappointed to find out that there is n...</td>\n",
       "      <td>2</td>\n",
       "      <td>i was disappointed to find out that there is n...</td>\n",
       "      <td>Yes</td>\n",
       "    </tr>\n",
       "    <tr>\n",
       "      <th>8</th>\n",
       "      <td>8988-ECPJR</td>\n",
       "      <td>The monthly charges are too high for the limit...</td>\n",
       "      <td>3</td>\n",
       "      <td>the monthly charges are too high for the limit...</td>\n",
       "      <td>Yes</td>\n",
       "    </tr>\n",
       "    <tr>\n",
       "      <th>9</th>\n",
       "      <td>1567-DSCIC</td>\n",
       "      <td>The internet speed with your fiber optic servi...</td>\n",
       "      <td>1</td>\n",
       "      <td>the internet speed with your fiber optic servi...</td>\n",
       "      <td>Yes</td>\n",
       "    </tr>\n",
       "    <tr>\n",
       "      <th>...</th>\n",
       "      <td>...</td>\n",
       "      <td>...</td>\n",
       "      <td>...</td>\n",
       "      <td>...</td>\n",
       "      <td>...</td>\n",
       "    </tr>\n",
       "    <tr>\n",
       "      <th>1599</th>\n",
       "      <td>2495-INZWQ</td>\n",
       "      <td>When I reached out for support regarding the s...</td>\n",
       "      <td>2</td>\n",
       "      <td>when i reached out for support regarding the s...</td>\n",
       "      <td>Yes</td>\n",
       "    </tr>\n",
       "    <tr>\n",
       "      <th>1600</th>\n",
       "      <td>2325-ZUSFD</td>\n",
       "      <td>The streaming services (TV and movies) have be...</td>\n",
       "      <td>1</td>\n",
       "      <td>the streaming services tv and movies have been...</td>\n",
       "      <td>Yes</td>\n",
       "    </tr>\n",
       "    <tr>\n",
       "      <th>1601</th>\n",
       "      <td>2325-ZUSFD</td>\n",
       "      <td>Despite paying for OnlineSecurity, I've been n...</td>\n",
       "      <td>2</td>\n",
       "      <td>despite paying for onlinesecurity ive been not...</td>\n",
       "      <td>Yes</td>\n",
       "    </tr>\n",
       "    <tr>\n",
       "      <th>1602</th>\n",
       "      <td>7851-FLGGQ</td>\n",
       "      <td>The streaming movies service I signed up for k...</td>\n",
       "      <td>1</td>\n",
       "      <td>the streaming movies service i signed up for k...</td>\n",
       "      <td>Yes</td>\n",
       "    </tr>\n",
       "    <tr>\n",
       "      <th>1604</th>\n",
       "      <td>4124-MMETB</td>\n",
       "      <td>The streaming services I signed up for, both T...</td>\n",
       "      <td>1</td>\n",
       "      <td>the streaming services i signed up for both tv...</td>\n",
       "      <td>Yes</td>\n",
       "    </tr>\n",
       "  </tbody>\n",
       "</table>\n",
       "<p>991 rows × 5 columns</p>\n",
       "</div>"
      ],
      "text/plain": [
       "      customerID                                          complaint  \\\n",
       "0     9565-DJPIB  The streaming TV service frequently buffers or...   \n",
       "6     8988-ECPJR  The internet service has been very inconsisten...   \n",
       "7     8988-ECPJR  I was disappointed to find out that there is n...   \n",
       "8     8988-ECPJR  The monthly charges are too high for the limit...   \n",
       "9     1567-DSCIC  The internet speed with your fiber optic servi...   \n",
       "...          ...                                                ...   \n",
       "1599  2495-INZWQ  When I reached out for support regarding the s...   \n",
       "1600  2325-ZUSFD  The streaming services (TV and movies) have be...   \n",
       "1601  2325-ZUSFD  Despite paying for OnlineSecurity, I've been n...   \n",
       "1602  7851-FLGGQ  The streaming movies service I signed up for k...   \n",
       "1604  4124-MMETB  The streaming services I signed up for, both T...   \n",
       "\n",
       "      complaint_number                                  cleaned_complaint  \\\n",
       "0                    1  the streaming tv service frequently buffers or...   \n",
       "6                    1  the internet service has been very inconsisten...   \n",
       "7                    2  i was disappointed to find out that there is n...   \n",
       "8                    3  the monthly charges are too high for the limit...   \n",
       "9                    1  the internet speed with your fiber optic servi...   \n",
       "...                ...                                                ...   \n",
       "1599                 2  when i reached out for support regarding the s...   \n",
       "1600                 1  the streaming services tv and movies have been...   \n",
       "1601                 2  despite paying for onlinesecurity ive been not...   \n",
       "1602                 1  the streaming movies service i signed up for k...   \n",
       "1604                 1  the streaming services i signed up for both tv...   \n",
       "\n",
       "     Churn  \n",
       "0      Yes  \n",
       "6      Yes  \n",
       "7      Yes  \n",
       "8      Yes  \n",
       "9      Yes  \n",
       "...    ...  \n",
       "1599   Yes  \n",
       "1600   Yes  \n",
       "1601   Yes  \n",
       "1602   Yes  \n",
       "1604   Yes  \n",
       "\n",
       "[991 rows x 5 columns]"
      ]
     },
     "execution_count": 19,
     "metadata": {},
     "output_type": "execute_result"
    }
   ],
   "source": [
    "clients = pd.read_excel('btUTgX.xlsx')\n",
    "clients = clients[['customerID', 'Churn']]\n",
    "complaints = complaints.merge(clients, on='customerID', how='left')\n",
    "\n",
    "# take a subset only with churning customers\n",
    "churning_customers = complaints[complaints['Churn'] == 'Yes']\n",
    "churning_customers = churning_customers.drop(columns=['severity'])\n",
    "churning_customers"
   ]
  },
  {
   "cell_type": "code",
   "execution_count": 20,
   "metadata": {},
   "outputs": [],
   "source": [
    "# Re-apply vader classifier\n",
    "churning_customers['severity'] = churning_customers['cleaned_complaint'].apply(vader_classifier)"
   ]
  },
  {
   "cell_type": "code",
   "execution_count": 21,
   "metadata": {},
   "outputs": [
    {
     "data": {
      "image/png": "[encoded data removed]",
      "text/plain": [
       "<Figure size 640x480 with 1 Axes>"
      ]
     },
     "metadata": {},
     "output_type": "display_data"
    }
   ],
   "source": [
    "# We calculate the percentage of severity, for each complaint number\n",
    "severity_percentage2 = churning_customers.groupby('complaint_number')['severity'].value_counts(normalize=True) * 100\n",
    "\n",
    "# Reset index for better visualization\n",
    "severity_percentage2 = severity_percentage2.reset_index(name='percentage')\n",
    "# Plotting the trend\n",
    "sns.barplot(x='complaint_number', y='percentage', hue='severity', data=severity_percentage2)\n",
    "plt.title('Severity Percentage per Complaint Number (churning customers)')\n",
    "plt.ylabel('Percentage')\n",
    "plt.xlabel('Complaint Number')\n",
    "plt.legend(title='Severity')\n",
    "plt.tight_layout()\n",
    "plt.show()"
   ]
  },
  {
   "cell_type": "markdown",
   "metadata": {},
   "source": [
    "In this case we can observe that, despite the number of complaint, all customers that are churning complain more severely. The fact that churning customers consistently use more severe language than the general population suggests a strong link between emotional tone and attrition. Monitoring sentiment trends could serve as an early warning system.\n",
    "\n",
    "Even when making multiple complaints, churners’ severity does not decrease, which may indicate that they are not perceiving resolution or acknowledgment, this can be a sign of failed service recovery. \\\n",
    "Implementing intervention policies based on sentiment (e.g., escalation of complaints with highly severe language) could allow customer service to act before the churn decision is final."
   ]
  },
  {
   "cell_type": "markdown",
   "metadata": {},
   "source": [
    "---\n",
    "## Trained model on small labeled sample"
   ]
  },
  {
   "cell_type": "markdown",
   "metadata": {},
   "source": [
    "We generate a casual subset file to be manually labeled and that will be the base on which training the model. However, since it is a time-consuming activity, this approach will be tried on a small sample (~100 complaints)."
   ]
  },
  {
   "cell_type": "code",
   "execution_count": 44,
   "metadata": {},
   "outputs": [],
   "source": [
    "# Take a sample of 110 elements from the dataset\n",
    "sample_size = 110\n",
    "complaints = complaints.drop(columns=['severity'])\n",
    "sampled_complaints = complaints.sample(n=sample_size, random_state=42)\n",
    "# Save the sampled dataset to an csv file\n",
    "sampled_complaints.to_csv('sampled_complaints.csv', index=False)\n"
   ]
  },
  {
   "cell_type": "code",
   "execution_count": 45,
   "metadata": {},
   "outputs": [
    {
     "data": {
      "text/html": [
       "<div>\n",
       "<style scoped>\n",
       "    .dataframe tbody tr th:only-of-type {\n",
       "        vertical-align: middle;\n",
       "    }\n",
       "\n",
       "    .dataframe tbody tr th {\n",
       "        vertical-align: top;\n",
       "    }\n",
       "\n",
       "    .dataframe thead th {\n",
       "        text-align: right;\n",
       "    }\n",
       "</style>\n",
       "<table border=\"1\" class=\"dataframe\">\n",
       "  <thead>\n",
       "    <tr style=\"text-align: right;\">\n",
       "      <th></th>\n",
       "      <th>complaint</th>\n",
       "      <th>severity_label</th>\n",
       "    </tr>\n",
       "  </thead>\n",
       "  <tbody>\n",
       "    <tr>\n",
       "      <th>0</th>\n",
       "      <td>I have been charged a high monthly fee of $79....</td>\n",
       "      <td>moderate</td>\n",
       "    </tr>\n",
       "    <tr>\n",
       "      <th>1</th>\n",
       "      <td>The internet speed has been inconsistent latel...</td>\n",
       "      <td>severe</td>\n",
       "    </tr>\n",
       "    <tr>\n",
       "      <th>2</th>\n",
       "      <td>When I tried to contact customer support about...</td>\n",
       "      <td>severe</td>\n",
       "    </tr>\n",
       "    <tr>\n",
       "      <th>3</th>\n",
       "      <td>Despite having tech support included in my pla...</td>\n",
       "      <td>severe</td>\n",
       "    </tr>\n",
       "    <tr>\n",
       "      <th>4</th>\n",
       "      <td>I was charged the full amount this month even ...</td>\n",
       "      <td>moderate</td>\n",
       "    </tr>\n",
       "    <tr>\n",
       "      <th>...</th>\n",
       "      <td>...</td>\n",
       "      <td>...</td>\n",
       "    </tr>\n",
       "    <tr>\n",
       "      <th>104</th>\n",
       "      <td>The DSL internet speed is much slower than exp...</td>\n",
       "      <td>moderate</td>\n",
       "    </tr>\n",
       "    <tr>\n",
       "      <th>105</th>\n",
       "      <td>I’m frustrated with the lack of flexibility or...</td>\n",
       "      <td>severe</td>\n",
       "    </tr>\n",
       "    <tr>\n",
       "      <th>106</th>\n",
       "      <td>My streaming services, both TV and movies, fre...</td>\n",
       "      <td>severe</td>\n",
       "    </tr>\n",
       "    <tr>\n",
       "      <th>107</th>\n",
       "      <td>The monthly charges are extremely high, and I ...</td>\n",
       "      <td>severe</td>\n",
       "    </tr>\n",
       "    <tr>\n",
       "      <th>108</th>\n",
       "      <td>The billing process is cumbersome, and I have ...</td>\n",
       "      <td>moderate</td>\n",
       "    </tr>\n",
       "  </tbody>\n",
       "</table>\n",
       "<p>109 rows × 2 columns</p>\n",
       "</div>"
      ],
      "text/plain": [
       "                                             complaint severity_label\n",
       "0    I have been charged a high monthly fee of $79....       moderate\n",
       "1    The internet speed has been inconsistent latel...         severe\n",
       "2    When I tried to contact customer support about...         severe\n",
       "3    Despite having tech support included in my pla...         severe\n",
       "4    I was charged the full amount this month even ...       moderate\n",
       "..                                                 ...            ...\n",
       "104  The DSL internet speed is much slower than exp...       moderate\n",
       "105  I’m frustrated with the lack of flexibility or...         severe\n",
       "106  My streaming services, both TV and movies, fre...         severe\n",
       "107  The monthly charges are extremely high, and I ...         severe\n",
       "108  The billing process is cumbersome, and I have ...       moderate\n",
       "\n",
       "[109 rows x 2 columns]"
      ]
     },
     "execution_count": 45,
     "metadata": {},
     "output_type": "execute_result"
    }
   ],
   "source": [
    "complaints2 = pd.read_csv('labeled_complaints.csv', sep=\";\")\n",
    "complaints2"
   ]
  },
  {
   "cell_type": "code",
   "execution_count": 46,
   "metadata": {},
   "outputs": [],
   "source": [
    "complaints2['cleaned_complaint'] = complaints2['complaint'].apply(preprocess_text)"
   ]
  },
  {
   "cell_type": "code",
   "execution_count": 47,
   "metadata": {},
   "outputs": [],
   "source": [
    "# Split data into training and testing sets\n",
    "\n",
    "X = complaints2['cleaned_complaint']\n",
    "y = complaints2['severity_label']\n",
    "\n",
    "X_train, X_test, y_train, y_test = train_test_split(\n",
    "    X, y, test_size=0.2, random_state=42, stratify=y\n",
    ")\n"
   ]
  },
  {
   "cell_type": "code",
   "execution_count": 48,
   "metadata": {},
   "outputs": [
    {
     "data": {
      "text/html": [
       "<style>#sk-container-id-1 {\n",
       "  /* Definition of color scheme common for light and dark mode */\n",
       "  --sklearn-color-text: black;\n",
       "  --sklearn-color-line: gray;\n",
       "  /* Definition of color scheme for unfitted estimators */\n",
       "  --sklearn-color-unfitted-level-0: #fff5e6;\n",
       "  --sklearn-color-unfitted-level-1: #f6e4d2;\n",
       "  --sklearn-color-unfitted-level-2: #ffe0b3;\n",
       "  --sklearn-color-unfitted-level-3: chocolate;\n",
       "  /* Definition of color scheme for fitted estimators */\n",
       "  --sklearn-color-fitted-level-0: #f0f8ff;\n",
       "  --sklearn-color-fitted-level-1: #d4ebff;\n",
       "  --sklearn-color-fitted-level-2: #b3dbfd;\n",
       "  --sklearn-color-fitted-level-3: cornflowerblue;\n",
       "\n",
       "  /* Specific color for light theme */\n",
       "  --sklearn-color-text-on-default-background: var(--sg-text-color, var(--theme-code-foreground, var(--jp-content-font-color1, black)));\n",
       "  --sklearn-color-background: var(--sg-background-color, var(--theme-background, var(--jp-layout-color0, white)));\n",
       "  --sklearn-color-border-box: var(--sg-text-color, var(--theme-code-foreground, var(--jp-content-font-color1, black)));\n",
       "  --sklearn-color-icon: #696969;\n",
       "\n",
       "  @media (prefers-color-scheme: dark) {\n",
       "    /* Redefinition of color scheme for dark theme */\n",
       "    --sklearn-color-text-on-default-background: var(--sg-text-color, var(--theme-code-foreground, var(--jp-content-font-color1, white)));\n",
       "    --sklearn-color-background: var(--sg-background-color, var(--theme-background, var(--jp-layout-color0, #111)));\n",
       "    --sklearn-color-border-box: var(--sg-text-color, var(--theme-code-foreground, var(--jp-content-font-color1, white)));\n",
       "    --sklearn-color-icon: #878787;\n",
       "  }\n",
       "}\n",
       "\n",
       "#sk-container-id-1 {\n",
       "  color: var(--sklearn-color-text);\n",
       "}\n",
       "\n",
       "#sk-container-id-1 pre {\n",
       "  padding: 0;\n",
       "}\n",
       "\n",
       "#sk-container-id-1 input.sk-hidden--visually {\n",
       "  border: 0;\n",
       "  clip: rect(1px 1px 1px 1px);\n",
       "  clip: rect(1px, 1px, 1px, 1px);\n",
       "  height: 1px;\n",
       "  margin: -1px;\n",
       "  overflow: hidden;\n",
       "  padding: 0;\n",
       "  position: absolute;\n",
       "  width: 1px;\n",
       "}\n",
       "\n",
       "#sk-container-id-1 div.sk-dashed-wrapped {\n",
       "  border: 1px dashed var(--sklearn-color-line);\n",
       "  margin: 0 0.4em 0.5em 0.4em;\n",
       "  box-sizing: border-box;\n",
       "  padding-bottom: 0.4em;\n",
       "  background-color: var(--sklearn-color-background);\n",
       "}\n",
       "\n",
       "#sk-container-id-1 div.sk-container {\n",
       "  /* jupyter's `normalize.less` sets `[hidden] { display: none; }`\n",
       "     but bootstrap.min.css set `[hidden] { display: none !important; }`\n",
       "     so we also need the `!important` here to be able to override the\n",
       "     default hidden behavior on the sphinx rendered scikit-learn.org.\n",
       "     See: https://github.com/scikit-learn/scikit-learn/issues/21755 */\n",
       "  display: inline-block !important;\n",
       "  position: relative;\n",
       "}\n",
       "\n",
       "#sk-container-id-1 div.sk-text-repr-fallback {\n",
       "  display: none;\n",
       "}\n",
       "\n",
       "div.sk-parallel-item,\n",
       "div.sk-serial,\n",
       "div.sk-item {\n",
       "  /* draw centered vertical line to link estimators */\n",
       "  background-image: linear-gradient(var(--sklearn-color-text-on-default-background), var(--sklearn-color-text-on-default-background));\n",
       "  background-size: 2px 100%;\n",
       "  background-repeat: no-repeat;\n",
       "  background-position: center center;\n",
       "}\n",
       "\n",
       "/* Parallel-specific style estimator block */\n",
       "\n",
       "#sk-container-id-1 div.sk-parallel-item::after {\n",
       "  content: \"\";\n",
       "  width: 100%;\n",
       "  border-bottom: 2px solid var(--sklearn-color-text-on-default-background);\n",
       "  flex-grow: 1;\n",
       "}\n",
       "\n",
       "#sk-container-id-1 div.sk-parallel {\n",
       "  display: flex;\n",
       "  align-items: stretch;\n",
       "  justify-content: center;\n",
       "  background-color: var(--sklearn-color-background);\n",
       "  position: relative;\n",
       "}\n",
       "\n",
       "#sk-container-id-1 div.sk-parallel-item {\n",
       "  display: flex;\n",
       "  flex-direction: column;\n",
       "}\n",
       "\n",
       "#sk-container-id-1 div.sk-parallel-item:first-child::after {\n",
       "  align-self: flex-end;\n",
       "  width: 50%;\n",
       "}\n",
       "\n",
       "#sk-container-id-1 div.sk-parallel-item:last-child::after {\n",
       "  align-self: flex-start;\n",
       "  width: 50%;\n",
       "}\n",
       "\n",
       "#sk-container-id-1 div.sk-parallel-item:only-child::after {\n",
       "  width: 0;\n",
       "}\n",
       "\n",
       "/* Serial-specific style estimator block */\n",
       "\n",
       "#sk-container-id-1 div.sk-serial {\n",
       "  display: flex;\n",
       "  flex-direction: column;\n",
       "  align-items: center;\n",
       "  background-color: var(--sklearn-color-background);\n",
       "  padding-right: 1em;\n",
       "  padding-left: 1em;\n",
       "}\n",
       "\n",
       "\n",
       "/* Toggleable style: style used for estimator/Pipeline/ColumnTransformer box that is\n",
       "clickable and can be expanded/collapsed.\n",
       "- Pipeline and ColumnTransformer use this feature and define the default style\n",
       "- Estimators will overwrite some part of the style using the `sk-estimator` class\n",
       "*/\n",
       "\n",
       "/* Pipeline and ColumnTransformer style (default) */\n",
       "\n",
       "#sk-container-id-1 div.sk-toggleable {\n",
       "  /* Default theme specific background. It is overwritten whether we have a\n",
       "  specific estimator or a Pipeline/ColumnTransformer */\n",
       "  background-color: var(--sklearn-color-background);\n",
       "}\n",
       "\n",
       "/* Toggleable label */\n",
       "#sk-container-id-1 label.sk-toggleable__label {\n",
       "  cursor: pointer;\n",
       "  display: block;\n",
       "  width: 100%;\n",
       "  margin-bottom: 0;\n",
       "  padding: 0.5em;\n",
       "  box-sizing: border-box;\n",
       "  text-align: center;\n",
       "}\n",
       "\n",
       "#sk-container-id-1 label.sk-toggleable__label-arrow:before {\n",
       "  /* Arrow on the left of the label */\n",
       "  content: \"▸\";\n",
       "  float: left;\n",
       "  margin-right: 0.25em;\n",
       "  color: var(--sklearn-color-icon);\n",
       "}\n",
       "\n",
       "#sk-container-id-1 label.sk-toggleable__label-arrow:hover:before {\n",
       "  color: var(--sklearn-color-text);\n",
       "}\n",
       "\n",
       "/* Toggleable content - dropdown */\n",
       "\n",
       "#sk-container-id-1 div.sk-toggleable__content {\n",
       "  max-height: 0;\n",
       "  max-width: 0;\n",
       "  overflow: hidden;\n",
       "  text-align: left;\n",
       "  /* unfitted */\n",
       "  background-color: var(--sklearn-color-unfitted-level-0);\n",
       "}\n",
       "\n",
       "#sk-container-id-1 div.sk-toggleable__content.fitted {\n",
       "  /* fitted */\n",
       "  background-color: var(--sklearn-color-fitted-level-0);\n",
       "}\n",
       "\n",
       "#sk-container-id-1 div.sk-toggleable__content pre {\n",
       "  margin: 0.2em;\n",
       "  border-radius: 0.25em;\n",
       "  color: var(--sklearn-color-text);\n",
       "  /* unfitted */\n",
       "  background-color: var(--sklearn-color-unfitted-level-0);\n",
       "}\n",
       "\n",
       "#sk-container-id-1 div.sk-toggleable__content.fitted pre {\n",
       "  /* unfitted */\n",
       "  background-color: var(--sklearn-color-fitted-level-0);\n",
       "}\n",
       "\n",
       "#sk-container-id-1 input.sk-toggleable__control:checked~div.sk-toggleable__content {\n",
       "  /* Expand drop-down */\n",
       "  max-height: 200px;\n",
       "  max-width: 100%;\n",
       "  overflow: auto;\n",
       "}\n",
       "\n",
       "#sk-container-id-1 input.sk-toggleable__control:checked~label.sk-toggleable__label-arrow:before {\n",
       "  content: \"▾\";\n",
       "}\n",
       "\n",
       "/* Pipeline/ColumnTransformer-specific style */\n",
       "\n",
       "#sk-container-id-1 div.sk-label input.sk-toggleable__control:checked~label.sk-toggleable__label {\n",
       "  color: var(--sklearn-color-text);\n",
       "  background-color: var(--sklearn-color-unfitted-level-2);\n",
       "}\n",
       "\n",
       "#sk-container-id-1 div.sk-label.fitted input.sk-toggleable__control:checked~label.sk-toggleable__label {\n",
       "  background-color: var(--sklearn-color-fitted-level-2);\n",
       "}\n",
       "\n",
       "/* Estimator-specific style */\n",
       "\n",
       "/* Colorize estimator box */\n",
       "#sk-container-id-1 div.sk-estimator input.sk-toggleable__control:checked~label.sk-toggleable__label {\n",
       "  /* unfitted */\n",
       "  background-color: var(--sklearn-color-unfitted-level-2);\n",
       "}\n",
       "\n",
       "#sk-container-id-1 div.sk-estimator.fitted input.sk-toggleable__control:checked~label.sk-toggleable__label {\n",
       "  /* fitted */\n",
       "  background-color: var(--sklearn-color-fitted-level-2);\n",
       "}\n",
       "\n",
       "#sk-container-id-1 div.sk-label label.sk-toggleable__label,\n",
       "#sk-container-id-1 div.sk-label label {\n",
       "  /* The background is the default theme color */\n",
       "  color: var(--sklearn-color-text-on-default-background);\n",
       "}\n",
       "\n",
       "/* On hover, darken the color of the background */\n",
       "#sk-container-id-1 div.sk-label:hover label.sk-toggleable__label {\n",
       "  color: var(--sklearn-color-text);\n",
       "  background-color: var(--sklearn-color-unfitted-level-2);\n",
       "}\n",
       "\n",
       "/* Label box, darken color on hover, fitted */\n",
       "#sk-container-id-1 div.sk-label.fitted:hover label.sk-toggleable__label.fitted {\n",
       "  color: var(--sklearn-color-text);\n",
       "  background-color: var(--sklearn-color-fitted-level-2);\n",
       "}\n",
       "\n",
       "/* Estimator label */\n",
       "\n",
       "#sk-container-id-1 div.sk-label label {\n",
       "  font-family: monospace;\n",
       "  font-weight: bold;\n",
       "  display: inline-block;\n",
       "  line-height: 1.2em;\n",
       "}\n",
       "\n",
       "#sk-container-id-1 div.sk-label-container {\n",
       "  text-align: center;\n",
       "}\n",
       "\n",
       "/* Estimator-specific */\n",
       "#sk-container-id-1 div.sk-estimator {\n",
       "  font-family: monospace;\n",
       "  border: 1px dotted var(--sklearn-color-border-box);\n",
       "  border-radius: 0.25em;\n",
       "  box-sizing: border-box;\n",
       "  margin-bottom: 0.5em;\n",
       "  /* unfitted */\n",
       "  background-color: var(--sklearn-color-unfitted-level-0);\n",
       "}\n",
       "\n",
       "#sk-container-id-1 div.sk-estimator.fitted {\n",
       "  /* fitted */\n",
       "  background-color: var(--sklearn-color-fitted-level-0);\n",
       "}\n",
       "\n",
       "/* on hover */\n",
       "#sk-container-id-1 div.sk-estimator:hover {\n",
       "  /* unfitted */\n",
       "  background-color: var(--sklearn-color-unfitted-level-2);\n",
       "}\n",
       "\n",
       "#sk-container-id-1 div.sk-estimator.fitted:hover {\n",
       "  /* fitted */\n",
       "  background-color: var(--sklearn-color-fitted-level-2);\n",
       "}\n",
       "\n",
       "/* Specification for estimator info (e.g. \"i\" and \"?\") */\n",
       "\n",
       "/* Common style for \"i\" and \"?\" */\n",
       "\n",
       ".sk-estimator-doc-link,\n",
       "a:link.sk-estimator-doc-link,\n",
       "a:visited.sk-estimator-doc-link {\n",
       "  float: right;\n",
       "  font-size: smaller;\n",
       "  line-height: 1em;\n",
       "  font-family: monospace;\n",
       "  background-color: var(--sklearn-color-background);\n",
       "  border-radius: 1em;\n",
       "  height: 1em;\n",
       "  width: 1em;\n",
       "  text-decoration: none !important;\n",
       "  margin-left: 1ex;\n",
       "  /* unfitted */\n",
       "  border: var(--sklearn-color-unfitted-level-1) 1pt solid;\n",
       "  color: var(--sklearn-color-unfitted-level-1);\n",
       "}\n",
       "\n",
       ".sk-estimator-doc-link.fitted,\n",
       "a:link.sk-estimator-doc-link.fitted,\n",
       "a:visited.sk-estimator-doc-link.fitted {\n",
       "  /* fitted */\n",
       "  border: var(--sklearn-color-fitted-level-1) 1pt solid;\n",
       "  color: var(--sklearn-color-fitted-level-1);\n",
       "}\n",
       "\n",
       "/* On hover */\n",
       "div.sk-estimator:hover .sk-estimator-doc-link:hover,\n",
       ".sk-estimator-doc-link:hover,\n",
       "div.sk-label-container:hover .sk-estimator-doc-link:hover,\n",
       ".sk-estimator-doc-link:hover {\n",
       "  /* unfitted */\n",
       "  background-color: var(--sklearn-color-unfitted-level-3);\n",
       "  color: var(--sklearn-color-background);\n",
       "  text-decoration: none;\n",
       "}\n",
       "\n",
       "div.sk-estimator.fitted:hover .sk-estimator-doc-link.fitted:hover,\n",
       ".sk-estimator-doc-link.fitted:hover,\n",
       "div.sk-label-container:hover .sk-estimator-doc-link.fitted:hover,\n",
       ".sk-estimator-doc-link.fitted:hover {\n",
       "  /* fitted */\n",
       "  background-color: var(--sklearn-color-fitted-level-3);\n",
       "  color: var(--sklearn-color-background);\n",
       "  text-decoration: none;\n",
       "}\n",
       "\n",
       "/* Span, style for the box shown on hovering the info icon */\n",
       ".sk-estimator-doc-link span {\n",
       "  display: none;\n",
       "  z-index: 9999;\n",
       "  position: relative;\n",
       "  font-weight: normal;\n",
       "  right: .2ex;\n",
       "  padding: .5ex;\n",
       "  margin: .5ex;\n",
       "  width: min-content;\n",
       "  min-width: 20ex;\n",
       "  max-width: 50ex;\n",
       "  color: var(--sklearn-color-text);\n",
       "  box-shadow: 2pt 2pt 4pt #999;\n",
       "  /* unfitted */\n",
       "  background: var(--sklearn-color-unfitted-level-0);\n",
       "  border: .5pt solid var(--sklearn-color-unfitted-level-3);\n",
       "}\n",
       "\n",
       ".sk-estimator-doc-link.fitted span {\n",
       "  /* fitted */\n",
       "  background: var(--sklearn-color-fitted-level-0);\n",
       "  border: var(--sklearn-color-fitted-level-3);\n",
       "}\n",
       "\n",
       ".sk-estimator-doc-link:hover span {\n",
       "  display: block;\n",
       "}\n",
       "\n",
       "/* \"?\"-specific style due to the `<a>` HTML tag */\n",
       "\n",
       "#sk-container-id-1 a.estimator_doc_link {\n",
       "  float: right;\n",
       "  font-size: 1rem;\n",
       "  line-height: 1em;\n",
       "  font-family: monospace;\n",
       "  background-color: var(--sklearn-color-background);\n",
       "  border-radius: 1rem;\n",
       "  height: 1rem;\n",
       "  width: 1rem;\n",
       "  text-decoration: none;\n",
       "  /* unfitted */\n",
       "  color: var(--sklearn-color-unfitted-level-1);\n",
       "  border: var(--sklearn-color-unfitted-level-1) 1pt solid;\n",
       "}\n",
       "\n",
       "#sk-container-id-1 a.estimator_doc_link.fitted {\n",
       "  /* fitted */\n",
       "  border: var(--sklearn-color-fitted-level-1) 1pt solid;\n",
       "  color: var(--sklearn-color-fitted-level-1);\n",
       "}\n",
       "\n",
       "/* On hover */\n",
       "#sk-container-id-1 a.estimator_doc_link:hover {\n",
       "  /* unfitted */\n",
       "  background-color: var(--sklearn-color-unfitted-level-3);\n",
       "  color: var(--sklearn-color-background);\n",
       "  text-decoration: none;\n",
       "}\n",
       "\n",
       "#sk-container-id-1 a.estimator_doc_link.fitted:hover {\n",
       "  /* fitted */\n",
       "  background-color: var(--sklearn-color-fitted-level-3);\n",
       "}\n",
       "</style><div id=\"sk-container-id-1\" class=\"sk-top-container\"><div class=\"sk-text-repr-fallback\"><pre>Pipeline(steps=[(&#x27;tfidf&#x27;,\n",
       "                 TfidfVectorizer(max_features=5000, ngram_range=(1, 2))),\n",
       "                (&#x27;classifier&#x27;,\n",
       "                 RandomForestClassifier(class_weight={&#x27;mild&#x27;: 5, &#x27;moderate&#x27;: 2,\n",
       "                                                      &#x27;severe&#x27;: 1},\n",
       "                                        random_state=42))])</pre><b>In a Jupyter environment, please rerun this cell to show the HTML representation or trust the notebook. <br />On GitHub, the HTML representation is unable to render, please try loading this page with nbviewer.org.</b></div><div class=\"sk-container\" hidden><div class=\"sk-item sk-dashed-wrapped\"><div class=\"sk-label-container\"><div class=\"sk-label fitted sk-toggleable\"><input class=\"sk-toggleable__control sk-hidden--visually\" id=\"sk-estimator-id-1\" type=\"checkbox\" ><label for=\"sk-estimator-id-1\" class=\"sk-toggleable__label fitted sk-toggleable__label-arrow fitted\">&nbsp;&nbsp;Pipeline<a class=\"sk-estimator-doc-link fitted\" rel=\"noreferrer\" target=\"_blank\" href=\"https://scikit-learn.org/1.4/modules/generated/sklearn.pipeline.Pipeline.html\">?<span>Documentation for Pipeline</span></a><span class=\"sk-estimator-doc-link fitted\">i<span>Fitted</span></span></label><div class=\"sk-toggleable__content fitted\"><pre>Pipeline(steps=[(&#x27;tfidf&#x27;,\n",
       "                 TfidfVectorizer(max_features=5000, ngram_range=(1, 2))),\n",
       "                (&#x27;classifier&#x27;,\n",
       "                 RandomForestClassifier(class_weight={&#x27;mild&#x27;: 5, &#x27;moderate&#x27;: 2,\n",
       "                                                      &#x27;severe&#x27;: 1},\n",
       "                                        random_state=42))])</pre></div> </div></div><div class=\"sk-serial\"><div class=\"sk-item\"><div class=\"sk-estimator fitted sk-toggleable\"><input class=\"sk-toggleable__control sk-hidden--visually\" id=\"sk-estimator-id-2\" type=\"checkbox\" ><label for=\"sk-estimator-id-2\" class=\"sk-toggleable__label fitted sk-toggleable__label-arrow fitted\">&nbsp;TfidfVectorizer<a class=\"sk-estimator-doc-link fitted\" rel=\"noreferrer\" target=\"_blank\" href=\"https://scikit-learn.org/1.4/modules/generated/sklearn.feature_extraction.text.TfidfVectorizer.html\">?<span>Documentation for TfidfVectorizer</span></a></label><div class=\"sk-toggleable__content fitted\"><pre>TfidfVectorizer(max_features=5000, ngram_range=(1, 2))</pre></div> </div></div><div class=\"sk-item\"><div class=\"sk-estimator fitted sk-toggleable\"><input class=\"sk-toggleable__control sk-hidden--visually\" id=\"sk-estimator-id-3\" type=\"checkbox\" ><label for=\"sk-estimator-id-3\" class=\"sk-toggleable__label fitted sk-toggleable__label-arrow fitted\">&nbsp;RandomForestClassifier<a class=\"sk-estimator-doc-link fitted\" rel=\"noreferrer\" target=\"_blank\" href=\"https://scikit-learn.org/1.4/modules/generated/sklearn.ensemble.RandomForestClassifier.html\">?<span>Documentation for RandomForestClassifier</span></a></label><div class=\"sk-toggleable__content fitted\"><pre>RandomForestClassifier(class_weight={&#x27;mild&#x27;: 5, &#x27;moderate&#x27;: 2, &#x27;severe&#x27;: 1},\n",
       "                       random_state=42)</pre></div> </div></div></div></div></div></div>"
      ],
      "text/plain": [
       "Pipeline(steps=[('tfidf',\n",
       "                 TfidfVectorizer(max_features=5000, ngram_range=(1, 2))),\n",
       "                ('classifier',\n",
       "                 RandomForestClassifier(class_weight={'mild': 5, 'moderate': 2,\n",
       "                                                      'severe': 1},\n",
       "                                        random_state=42))])"
      ]
     },
     "execution_count": 48,
     "metadata": {},
     "output_type": "execute_result"
    }
   ],
   "source": [
    "\n",
    "# Create and train a model pipeline\n",
    "class_weights = {'mild': 5, 'moderate': 2, 'severe': 1}  # Higher weight for underrepresented classes\n",
    "\n",
    "# This pipeline will vectorize the text and apply a classifier\n",
    "pipeline = Pipeline([\n",
    "    ('tfidf', TfidfVectorizer(max_features=5000, ngram_range=(1, 2))),\n",
    "    ('classifier', RandomForestClassifier(n_estimators=100, random_state=42, class_weight=class_weights))\n",
    "])\n",
    "\n",
    "# Train the model\n",
    "pipeline.fit(X_train, y_train)\n"
   ]
  },
  {
   "cell_type": "code",
   "execution_count": 49,
   "metadata": {},
   "outputs": [
    {
     "name": "stdout",
     "output_type": "stream",
     "text": [
      "\n",
      "Classification Report:\n",
      "              precision    recall  f1-score   support\n",
      "\n",
      "        mild       0.00      0.00      0.00         2\n",
      "    moderate       0.67      0.29      0.40         7\n",
      "      severe       0.68      1.00      0.81        13\n",
      "\n",
      "    accuracy                           0.68        22\n",
      "   macro avg       0.45      0.43      0.40        22\n",
      "weighted avg       0.62      0.68      0.61        22\n",
      "\n"
     ]
    }
   ],
   "source": [
    "# Evaluate the model\n",
    "predictions = pipeline.predict(X_test)\n",
    "print(\"\\nClassification Report:\")\n",
    "print(classification_report(y_test, predictions))\n"
   ]
  },
  {
   "cell_type": "markdown",
   "metadata": {},
   "source": [
    "Now that we trained and tested the model we try it on the complete dataset, even if from the classification report is evident that it performs poorly on moderate and mild classification. Quite surely we will obtain a biased prediction of majority of complaints being detected as severe."
   ]
  },
  {
   "cell_type": "code",
   "execution_count": 51,
   "metadata": {},
   "outputs": [],
   "source": [
    "# use the model on the complete dataset\n",
    "complaints3 = pd.read_excel('EaUgXb.xlsx')\n",
    "complaints3['cleaned_complaint'] = complaints3['complaint'].apply(preprocess_text)\n",
    "complaints3['predicted_severity'] = pipeline.predict(complaints3['cleaned_complaint'])\n"
   ]
  },
  {
   "cell_type": "code",
   "execution_count": 52,
   "metadata": {},
   "outputs": [
    {
     "data": {
      "image/png": "[encoded data removed]",
      "text/plain": [
       "<Figure size 1000x600 with 1 Axes>"
      ]
     },
     "metadata": {},
     "output_type": "display_data"
    }
   ],
   "source": [
    "plt.figure(figsize=(10, 6))\n",
    "sns.countplot(x='predicted_severity', data=complaints3, order=['mild', 'moderate', 'severe'])\n",
    "plt.title('Distribution of Predicted Severity Classes')\n",
    "plt.xlabel('Severity')\n",
    "plt.ylabel('Count')\n",
    "plt.grid(True, alpha=0.3)\n",
    "plt.show()\n"
   ]
  },
  {
   "cell_type": "code",
   "execution_count": 53,
   "metadata": {},
   "outputs": [
    {
     "name": "stdout",
     "output_type": "stream",
     "text": [
      "predicted_severity\n",
      "severe      1360\n",
      "moderate     231\n",
      "mild          14\n",
      "Name: count, dtype: int64\n"
     ]
    }
   ],
   "source": [
    "# Check the distribution\n",
    "severity_distribution3 = complaints3['predicted_severity'].value_counts()\n",
    "print(severity_distribution3)"
   ]
  },
  {
   "cell_type": "markdown",
   "metadata": {},
   "source": [
    "As expected it classifies the vast majority of complaints pertaining to the 'severe' class. In fact, applying the visualization methods, we used prior, we will obtain a very biased classification of severe complaints."
   ]
  },
  {
   "cell_type": "code",
   "execution_count": 54,
   "metadata": {},
   "outputs": [
    {
     "data": {
      "image/png": "[encoded data removed]",
      "text/plain": [
       "<Figure size 640x480 with 1 Axes>"
      ]
     },
     "metadata": {},
     "output_type": "display_data"
    }
   ],
   "source": [
    "sns.countplot(x='complaint_number', hue='predicted_severity', data=complaints3)\n",
    "plt.title('Sentiment per Complaint Number')\n",
    "plt.show()"
   ]
  },
  {
   "cell_type": "code",
   "execution_count": 55,
   "metadata": {},
   "outputs": [
    {
     "data": {
      "image/png": "[encoded data removed]",
      "text/plain": [
       "<Figure size 640x480 with 1 Axes>"
      ]
     },
     "metadata": {},
     "output_type": "display_data"
    }
   ],
   "source": [
    "# For each complaint number, calculate the percentage of each severity\n",
    "severity_percentage = complaints3.groupby('complaint_number')['predicted_severity'].value_counts(normalize=True) * 100\n",
    "\n",
    "# Reset index for better visualization\n",
    "severity_percentage = severity_percentage.reset_index(name='percentage')\n",
    "# Plotting the trend\n",
    "sns.barplot(x='complaint_number', y='percentage', hue='predicted_severity', data=severity_percentage)\n",
    "plt.title('Severity Percentage per Complaint Number')\n",
    "plt.ylabel('Percentage')\n",
    "plt.xlabel('Complaint Number')\n",
    "plt.legend(title='Severity')\n",
    "plt.tight_layout()\n",
    "plt.show()"
   ]
  },
  {
   "cell_type": "markdown",
   "metadata": {},
   "source": [
    "For this model there to stress the fact that maybe a too small sample was used to train the model, thus, the prediction has a quite high bias towads 'severe'. As a matter of fact, it is not too useful to draw conclusion from the biased result we obtained above since they could be misleading and incorrect."
   ]
  }
 ],
 "metadata": {
  "kernelspec": {
   "display_name": "base",
   "language": "python",
   "name": "python3"
  },
  "language_info": {
   "codemirror_mode": {
    "name": "ipython",
    "version": 3
   },
   "file_extension": ".py",
   "mimetype": "text/x-python",
   "name": "python",
   "nbconvert_exporter": "python",
   "pygments_lexer": "ipython3",
   "version": "3.12.4"
  }
 },
 "nbformat": 4,
 "nbformat_minor": 2
}
